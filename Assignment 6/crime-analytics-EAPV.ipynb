{
 "cells": [
  {
   "cell_type": "markdown",
   "metadata": {},
   "source": [
    "# Crime Analytics in Seattle and San Francisco"
   ]
  },
  {
   "cell_type": "markdown",
   "metadata": {},
   "source": [
    "Data Science at Scale assignment 6:\n",
    "In this assignment, you will analyze criminal incident data from Seattle or San Francisco to visualize patterns and, if desired, contrast and compare patterns across the two cities.\n",
    "\n",
    "You will produce a blog-post-style visual narrative consisting of a series of visualizations interspersed with sufficient descriptive text to make a convincing argument.\n",
    "\n",
    "The assignment will be assessed by peer review. The rubric for assessment will include questions about the effectiveness and clarity of your argument, your use of visualization, and the completeness of your analysis. Reproducibility will also be considered, but will be evaluated subjectively -- peer reviewers will not be asked to recreate your results.\n",
    "\n",
    "\n",
    "For this analysis, 2 months of real crime data for Summer 2014 in San Francisco and Seattle is accessed.\n",
    "\n",
    "-------------------------------------------\n",
    "I decided to use Python for this assignment."
   ]
  },
  {
   "cell_type": "code",
   "execution_count": 1,
   "metadata": {},
   "outputs": [],
   "source": [
    "YEAR = 2014\n",
    "PERIOD = \"summer\"\n",
    "TYPE = \"incidents\"\n",
    "DATA_DIR = \"data\"\n",
    "SF = \"sanfrancisco\"\n",
    "SEATTLE = \"seattle\""
   ]
  },
  {
   "cell_type": "markdown",
   "metadata": {},
   "source": [
    "To do this analysis, Python's [pandas](http://pandas.pydata.org/) library will be used. It's a great library that helps to represent the data as **DataFrames** which makes subsequent analysis much easier.\n",
    "\n",
    "2 DataFrames will be created:\n",
    "\n",
    "* `sf`: contains San Francisco's crime data for Summer 2014.\n",
    "* `seattle`: contains Seattle's crime data for Summer 2014."
   ]
  },
  {
   "cell_type": "code",
   "execution_count": 2,
   "metadata": {},
   "outputs": [
    {
     "name": "stdout",
     "output_type": "stream",
     "text": [
      "Read SF data from data\\sanfrancisco_incidents_summer_2014.csv yielded 28993 rows\n",
      "Read Seattle data from data\\seattle_incidents_summer_2014.csv yielded 32779 rows\n"
     ]
    },
    {
     "name": "stderr",
     "output_type": "stream",
     "text": [
      "C:\\ProgramData\\Anaconda3\\lib\\site-packages\\IPython\\core\\interactiveshell.py:3146: DtypeWarning: Columns (9) have mixed types.Specify dtype option on import or set low_memory=False.\n",
      "  has_raised = await self.run_ast_nodes(code_ast.body, cell_name,\n"
     ]
    }
   ],
   "source": [
    "# Load data into pandas DataFrames\n",
    "import os\n",
    "import pandas as pd\n",
    "\n",
    "sf_filename = os.path.join(DATA_DIR, \"%s_%s_%s_%d.csv\" % (SF, TYPE, PERIOD, YEAR))\n",
    "sf = pd.read_csv(sf_filename)\n",
    "sf_nrows = sf.shape[0]\n",
    "print (\"Read SF data from %s yielded %d rows\" % (sf_filename, sf_nrows))\n",
    "\n",
    "seattle_filename = os.path.join(DATA_DIR, \"%s_%s_%s_%d.csv\" % (SEATTLE, TYPE, PERIOD, YEAR))\n",
    "seattle = pd.read_csv(seattle_filename)\n",
    "seattle_nrows = seattle.shape[0]\n",
    "print (\"Read Seattle data from %s yielded %d rows\" % (seattle_filename, seattle_nrows))\n",
    "\n",
    "assert sf_nrows == len(open(sf_filename).readlines()) - 1 != 0\n",
    "assert seattle_nrows == len(open(seattle_filename).readlines()) - 1 != 0"
   ]
  },
  {
   "cell_type": "markdown",
   "metadata": {},
   "source": [
    "Sampling some random data in `sf`:"
   ]
  },
  {
   "cell_type": "code",
   "execution_count": 3,
   "metadata": {
    "scrolled": true
   },
   "outputs": [
    {
     "data": {
      "text/html": [
       "<div>\n",
       "<style scoped>\n",
       "    .dataframe tbody tr th:only-of-type {\n",
       "        vertical-align: middle;\n",
       "    }\n",
       "\n",
       "    .dataframe tbody tr th {\n",
       "        vertical-align: top;\n",
       "    }\n",
       "\n",
       "    .dataframe thead th {\n",
       "        text-align: right;\n",
       "    }\n",
       "</style>\n",
       "<table border=\"1\" class=\"dataframe\">\n",
       "  <thead>\n",
       "    <tr style=\"text-align: right;\">\n",
       "      <th></th>\n",
       "      <th>IncidntNum</th>\n",
       "      <th>Category</th>\n",
       "      <th>Descript</th>\n",
       "      <th>DayOfWeek</th>\n",
       "      <th>Date</th>\n",
       "      <th>Time</th>\n",
       "      <th>PdDistrict</th>\n",
       "      <th>Resolution</th>\n",
       "      <th>Address</th>\n",
       "      <th>X</th>\n",
       "      <th>Y</th>\n",
       "      <th>Location</th>\n",
       "      <th>PdId</th>\n",
       "    </tr>\n",
       "  </thead>\n",
       "  <tbody>\n",
       "    <tr>\n",
       "      <th>10071</th>\n",
       "      <td>140651157</td>\n",
       "      <td>NON-CRIMINAL</td>\n",
       "      <td>COURTESY REPORT</td>\n",
       "      <td>Friday</td>\n",
       "      <td>08/01/2014</td>\n",
       "      <td>12:00</td>\n",
       "      <td>MISSION</td>\n",
       "      <td>NONE</td>\n",
       "      <td>1700 Block of MISSION ST</td>\n",
       "      <td>-122.420222</td>\n",
       "      <td>37.769554</td>\n",
       "      <td>(37.769554034555, -122.420222385251)</td>\n",
       "      <td>14065115768030</td>\n",
       "    </tr>\n",
       "    <tr>\n",
       "      <th>3081</th>\n",
       "      <td>140705817</td>\n",
       "      <td>MISSING PERSON</td>\n",
       "      <td>FOUND PERSON</td>\n",
       "      <td>Friday</td>\n",
       "      <td>08/22/2014</td>\n",
       "      <td>15:44</td>\n",
       "      <td>SOUTHERN</td>\n",
       "      <td>ARREST, BOOKED</td>\n",
       "      <td>700 Block of MISSION ST</td>\n",
       "      <td>-122.403070</td>\n",
       "      <td>37.785269</td>\n",
       "      <td>(37.7852686309087, -122.403070000847)</td>\n",
       "      <td>14070581775000</td>\n",
       "    </tr>\n",
       "    <tr>\n",
       "      <th>3153</th>\n",
       "      <td>140705265</td>\n",
       "      <td>ASSAULT</td>\n",
       "      <td>THREATS AGAINST LIFE</td>\n",
       "      <td>Friday</td>\n",
       "      <td>08/22/2014</td>\n",
       "      <td>12:30</td>\n",
       "      <td>SOUTHERN</td>\n",
       "      <td>NONE</td>\n",
       "      <td>800 Block of BRYANT ST</td>\n",
       "      <td>-122.403405</td>\n",
       "      <td>37.775421</td>\n",
       "      <td>(37.775420706711, -122.403404791479)</td>\n",
       "      <td>14070526519057</td>\n",
       "    </tr>\n",
       "    <tr>\n",
       "      <th>23306</th>\n",
       "      <td>140511614</td>\n",
       "      <td>DRUG/NARCOTIC</td>\n",
       "      <td>POSSESSION OF HEROIN</td>\n",
       "      <td>Friday</td>\n",
       "      <td>06/20/2014</td>\n",
       "      <td>13:21</td>\n",
       "      <td>TENDERLOIN</td>\n",
       "      <td>ARREST, BOOKED</td>\n",
       "      <td>LEAVENWORTH ST / MCALLISTER ST</td>\n",
       "      <td>-122.413679</td>\n",
       "      <td>37.780926</td>\n",
       "      <td>(37.7809258336852, -122.413679376888)</td>\n",
       "      <td>14051161416100</td>\n",
       "    </tr>\n",
       "    <tr>\n",
       "      <th>30</th>\n",
       "      <td>146177741</td>\n",
       "      <td>LARCENY/THEFT</td>\n",
       "      <td>GRAND THEFT FROM LOCKED AUTO</td>\n",
       "      <td>Sunday</td>\n",
       "      <td>08/31/2014</td>\n",
       "      <td>22:00</td>\n",
       "      <td>RICHMOND</td>\n",
       "      <td>NONE</td>\n",
       "      <td>2500 Block of MCALLISTER ST</td>\n",
       "      <td>-122.453871</td>\n",
       "      <td>37.775582</td>\n",
       "      <td>(37.7755820573955, -122.453870632501)</td>\n",
       "      <td>14617774106244</td>\n",
       "    </tr>\n",
       "  </tbody>\n",
       "</table>\n",
       "</div>"
      ],
      "text/plain": [
       "       IncidntNum        Category                      Descript DayOfWeek  \\\n",
       "10071   140651157    NON-CRIMINAL               COURTESY REPORT    Friday   \n",
       "3081    140705817  MISSING PERSON                  FOUND PERSON    Friday   \n",
       "3153    140705265         ASSAULT          THREATS AGAINST LIFE    Friday   \n",
       "23306   140511614   DRUG/NARCOTIC          POSSESSION OF HEROIN    Friday   \n",
       "30      146177741   LARCENY/THEFT  GRAND THEFT FROM LOCKED AUTO    Sunday   \n",
       "\n",
       "             Date   Time  PdDistrict      Resolution  \\\n",
       "10071  08/01/2014  12:00     MISSION            NONE   \n",
       "3081   08/22/2014  15:44    SOUTHERN  ARREST, BOOKED   \n",
       "3153   08/22/2014  12:30    SOUTHERN            NONE   \n",
       "23306  06/20/2014  13:21  TENDERLOIN  ARREST, BOOKED   \n",
       "30     08/31/2014  22:00    RICHMOND            NONE   \n",
       "\n",
       "                              Address           X          Y  \\\n",
       "10071        1700 Block of MISSION ST -122.420222  37.769554   \n",
       "3081          700 Block of MISSION ST -122.403070  37.785269   \n",
       "3153           800 Block of BRYANT ST -122.403405  37.775421   \n",
       "23306  LEAVENWORTH ST / MCALLISTER ST -122.413679  37.780926   \n",
       "30        2500 Block of MCALLISTER ST -122.453871  37.775582   \n",
       "\n",
       "                                    Location            PdId  \n",
       "10071   (37.769554034555, -122.420222385251)  14065115768030  \n",
       "3081   (37.7852686309087, -122.403070000847)  14070581775000  \n",
       "3153    (37.775420706711, -122.403404791479)  14070526519057  \n",
       "23306  (37.7809258336852, -122.413679376888)  14051161416100  \n",
       "30     (37.7755820573955, -122.453870632501)  14617774106244  "
      ]
     },
     "execution_count": 3,
     "metadata": {},
     "output_type": "execute_result"
    }
   ],
   "source": [
    "sf.sample(n=5)"
   ]
  },
  {
   "cell_type": "markdown",
   "metadata": {},
   "source": [
    "Sampling some random data in `seattle`:"
   ]
  },
  {
   "cell_type": "code",
   "execution_count": 4,
   "metadata": {
    "scrolled": true
   },
   "outputs": [
    {
     "data": {
      "text/html": [
       "<div>\n",
       "<style scoped>\n",
       "    .dataframe tbody tr th:only-of-type {\n",
       "        vertical-align: middle;\n",
       "    }\n",
       "\n",
       "    .dataframe tbody tr th {\n",
       "        vertical-align: top;\n",
       "    }\n",
       "\n",
       "    .dataframe thead th {\n",
       "        text-align: right;\n",
       "    }\n",
       "</style>\n",
       "<table border=\"1\" class=\"dataframe\">\n",
       "  <thead>\n",
       "    <tr style=\"text-align: right;\">\n",
       "      <th></th>\n",
       "      <th>RMS CDW ID</th>\n",
       "      <th>General Offense Number</th>\n",
       "      <th>Offense Code</th>\n",
       "      <th>Offense Code Extension</th>\n",
       "      <th>Offense Type</th>\n",
       "      <th>Summary Offense Code</th>\n",
       "      <th>Summarized Offense Description</th>\n",
       "      <th>Date Reported</th>\n",
       "      <th>Occurred Date or Date Range Start</th>\n",
       "      <th>Occurred Date Range End</th>\n",
       "      <th>Hundred Block Location</th>\n",
       "      <th>District/Sector</th>\n",
       "      <th>Zone/Beat</th>\n",
       "      <th>Census Tract 2000</th>\n",
       "      <th>Longitude</th>\n",
       "      <th>Latitude</th>\n",
       "      <th>Location</th>\n",
       "      <th>Month</th>\n",
       "      <th>Year</th>\n",
       "    </tr>\n",
       "  </thead>\n",
       "  <tbody>\n",
       "    <tr>\n",
       "      <th>25001</th>\n",
       "      <td>1008999</td>\n",
       "      <td>2014201810</td>\n",
       "      <td>2305</td>\n",
       "      <td>0</td>\n",
       "      <td>THEFT-CARPROWL</td>\n",
       "      <td>2300</td>\n",
       "      <td>CAR PROWL</td>\n",
       "      <td>06/24/2014 01:12:00 AM</td>\n",
       "      <td>06/23/2014 09:30:00 PM</td>\n",
       "      <td>06/23/2014 11:50:00 PM</td>\n",
       "      <td>14XX BLOCK OF WESTERN AV</td>\n",
       "      <td>M</td>\n",
       "      <td>M3</td>\n",
       "      <td>8100.1011</td>\n",
       "      <td>-122.340670</td>\n",
       "      <td>47.607860</td>\n",
       "      <td>(47.60786035, -122.340669905)</td>\n",
       "      <td>6</td>\n",
       "      <td>2014</td>\n",
       "    </tr>\n",
       "    <tr>\n",
       "      <th>19513</th>\n",
       "      <td>1037511</td>\n",
       "      <td>2014223585</td>\n",
       "      <td>5015</td>\n",
       "      <td>1</td>\n",
       "      <td>WARRARR-FELONY</td>\n",
       "      <td>5000</td>\n",
       "      <td>WARRANT ARREST</td>\n",
       "      <td>07/09/2014 10:04:00 PM</td>\n",
       "      <td>07/09/2014 10:04:00 PM</td>\n",
       "      <td>NaN</td>\n",
       "      <td>19XX BLOCK OF 4 AV S</td>\n",
       "      <td>O</td>\n",
       "      <td>O2</td>\n",
       "      <td>9300.3012</td>\n",
       "      <td>-122.329058</td>\n",
       "      <td>47.585074</td>\n",
       "      <td>(47.585073699, -122.329058002)</td>\n",
       "      <td>7</td>\n",
       "      <td>2014</td>\n",
       "    </tr>\n",
       "    <tr>\n",
       "      <th>31777</th>\n",
       "      <td>57606</td>\n",
       "      <td>2014176434</td>\n",
       "      <td>2699</td>\n",
       "      <td>1</td>\n",
       "      <td>FRAUD-OTHER</td>\n",
       "      <td>2600</td>\n",
       "      <td>FRAUD</td>\n",
       "      <td>06/04/2014 11:24:00 AM</td>\n",
       "      <td>06/02/2014 12:00:00 PM</td>\n",
       "      <td>06/04/2014 11:00:00 AM</td>\n",
       "      <td>7XX BLOCK OF NW 73 ST</td>\n",
       "      <td>J</td>\n",
       "      <td>J2</td>\n",
       "      <td>2900.3013</td>\n",
       "      <td>-122.365016</td>\n",
       "      <td>47.681782</td>\n",
       "      <td>(47.681781586, -122.365015662)</td>\n",
       "      <td>6</td>\n",
       "      <td>2014</td>\n",
       "    </tr>\n",
       "    <tr>\n",
       "      <th>14503</th>\n",
       "      <td>45231</td>\n",
       "      <td>2014241393</td>\n",
       "      <td>2404</td>\n",
       "      <td>1</td>\n",
       "      <td>VEH-THEFT-AUTO</td>\n",
       "      <td>2400</td>\n",
       "      <td>VEHICLE THEFT</td>\n",
       "      <td>07/23/2014 04:42:00 PM</td>\n",
       "      <td>07/18/2014 08:00:00 PM</td>\n",
       "      <td>07/22/2014 10:00:00 AM</td>\n",
       "      <td>140XX BLOCK OF LAKE CITY WY NE</td>\n",
       "      <td>L</td>\n",
       "      <td>L1</td>\n",
       "      <td>100.4003</td>\n",
       "      <td>-122.292342</td>\n",
       "      <td>47.731028</td>\n",
       "      <td>(47.731028434, -122.292342078)</td>\n",
       "      <td>7</td>\n",
       "      <td>2014</td>\n",
       "    </tr>\n",
       "    <tr>\n",
       "      <th>32337</th>\n",
       "      <td>994805</td>\n",
       "      <td>2014904567</td>\n",
       "      <td>2305</td>\n",
       "      <td>0</td>\n",
       "      <td>THEFT-CARPROWL</td>\n",
       "      <td>2300</td>\n",
       "      <td>CAR PROWL</td>\n",
       "      <td>06/02/2014 04:52:00 PM</td>\n",
       "      <td>06/02/2014 01:00:00 AM</td>\n",
       "      <td>06/02/2014 09:00:00 AM</td>\n",
       "      <td>51XX BLOCK OF S MORGAN ST</td>\n",
       "      <td>R</td>\n",
       "      <td>R3</td>\n",
       "      <td>11102.1007</td>\n",
       "      <td>-122.268522</td>\n",
       "      <td>47.544278</td>\n",
       "      <td>(47.544277908, -122.268522136)</td>\n",
       "      <td>6</td>\n",
       "      <td>2014</td>\n",
       "    </tr>\n",
       "  </tbody>\n",
       "</table>\n",
       "</div>"
      ],
      "text/plain": [
       "       RMS CDW ID  General Offense Number Offense Code  \\\n",
       "25001     1008999              2014201810         2305   \n",
       "19513     1037511              2014223585         5015   \n",
       "31777       57606              2014176434         2699   \n",
       "14503       45231              2014241393         2404   \n",
       "32337      994805              2014904567         2305   \n",
       "\n",
       "       Offense Code Extension    Offense Type Summary Offense Code  \\\n",
       "25001                       0  THEFT-CARPROWL                 2300   \n",
       "19513                       1  WARRARR-FELONY                 5000   \n",
       "31777                       1     FRAUD-OTHER                 2600   \n",
       "14503                       1  VEH-THEFT-AUTO                 2400   \n",
       "32337                       0  THEFT-CARPROWL                 2300   \n",
       "\n",
       "      Summarized Offense Description           Date Reported  \\\n",
       "25001                      CAR PROWL  06/24/2014 01:12:00 AM   \n",
       "19513                 WARRANT ARREST  07/09/2014 10:04:00 PM   \n",
       "31777                          FRAUD  06/04/2014 11:24:00 AM   \n",
       "14503                  VEHICLE THEFT  07/23/2014 04:42:00 PM   \n",
       "32337                      CAR PROWL  06/02/2014 04:52:00 PM   \n",
       "\n",
       "      Occurred Date or Date Range Start Occurred Date Range End  \\\n",
       "25001            06/23/2014 09:30:00 PM  06/23/2014 11:50:00 PM   \n",
       "19513            07/09/2014 10:04:00 PM                     NaN   \n",
       "31777            06/02/2014 12:00:00 PM  06/04/2014 11:00:00 AM   \n",
       "14503            07/18/2014 08:00:00 PM  07/22/2014 10:00:00 AM   \n",
       "32337            06/02/2014 01:00:00 AM  06/02/2014 09:00:00 AM   \n",
       "\n",
       "               Hundred Block Location District/Sector Zone/Beat  \\\n",
       "25001        14XX BLOCK OF WESTERN AV               M        M3   \n",
       "19513            19XX BLOCK OF 4 AV S               O        O2   \n",
       "31777           7XX BLOCK OF NW 73 ST               J        J2   \n",
       "14503  140XX BLOCK OF LAKE CITY WY NE               L        L1   \n",
       "32337       51XX BLOCK OF S MORGAN ST               R        R3   \n",
       "\n",
       "       Census Tract 2000   Longitude   Latitude  \\\n",
       "25001          8100.1011 -122.340670  47.607860   \n",
       "19513          9300.3012 -122.329058  47.585074   \n",
       "31777          2900.3013 -122.365016  47.681782   \n",
       "14503           100.4003 -122.292342  47.731028   \n",
       "32337         11102.1007 -122.268522  47.544278   \n",
       "\n",
       "                             Location  Month  Year  \n",
       "25001   (47.60786035, -122.340669905)      6  2014  \n",
       "19513  (47.585073699, -122.329058002)      7  2014  \n",
       "31777  (47.681781586, -122.365015662)      6  2014  \n",
       "14503  (47.731028434, -122.292342078)      7  2014  \n",
       "32337  (47.544277908, -122.268522136)      6  2014  "
      ]
     },
     "execution_count": 4,
     "metadata": {},
     "output_type": "execute_result"
    }
   ],
   "source": [
    "seattle.sample(n=5)"
   ]
  },
  {
   "cell_type": "markdown",
   "metadata": {},
   "source": [
    "It is clear that several columns aren't useful for analysis (like Offense Code, for example), and it is also notorious that the scheme between`sf` and `seattle` is different, so data preprocessing and normalization will be performed to carry out comparisons between the two cities."
   ]
  },
  {
   "cell_type": "markdown",
   "metadata": {},
   "source": [
    "## Data Preprocessing and Normalization"
   ]
  },
  {
   "cell_type": "markdown",
   "metadata": {},
   "source": [
    "### San Francisco"
   ]
  },
  {
   "cell_type": "markdown",
   "metadata": {},
   "source": [
    "Several columns in `sf` have data mapping to other columns in `seattle`, but its names are differently. Specifically:\n",
    "\n",
    "* `X` in `sf` has a 1:1 relationship to `Longitude` in `seattle`.\n",
    "* `Y` in `sf` has a 1:1 relationship to `Latitude` in `seattle`.\n",
    "* `PdDistrict` in `sf` has a 1:1 relationship to `District/Sector` in `seattle`. To simplify, both will be named `District`.\n",
    "* `Descript` in `sf` has a 1:1 relationship to `Summarized Offense Description` in `seattle`. To simplify,  both will be named `Description`.\n",
    "\n",
    "In `sf` these columns will be renamed.\n",
    "Maybe all these columns and data won't be used for analysis, however  they will normalized for use in a next release."
   ]
  },
  {
   "cell_type": "code",
   "execution_count": 5,
   "metadata": {},
   "outputs": [],
   "source": [
    "sf.rename(columns = {\"X\": \"Longitude\", \"Y\": \"Latitude\", \"PdDistrict\": \"District\", \"Descript\": \"Description\"}, \n",
    "          inplace=True)"
   ]
  },
  {
   "cell_type": "markdown",
   "metadata": {},
   "source": [
    "As part of the standardization process, next activities will be executed:\n",
    "* Generate a new column to indicate the city of origin of the data.\n",
    "* Separate date and time data into new columns:\n",
    "* Add 1 column being the `DayOfMonth`, another one the `Month` and a last one the `Year`.\n",
    "* Add 1 column `TimeBin` to get an integer representation of the time which is easier to visualize and work with "
   ]
  },
  {
   "cell_type": "code",
   "execution_count": 6,
   "metadata": {},
   "outputs": [],
   "source": [
    "sf[\"City\"] = pd.Series([SF]*sf.shape[0], index=sf.index)\n",
    "sf[\"DayOfMonth\"] = sf.Date.map(lambda x: int(x.split(\"/\")[1]))\n",
    "sf[\"Month\"] = sf.Date.map(lambda x: int(x.split(\"/\")[0]))\n",
    "sf[\"Year\"] = sf.Date.map(lambda x: int(x.split(\"/\")[2]))\n",
    "\n",
    "# Function that takes a Time as HH:MM and returns an int representing the hour\n",
    "def time_bin(t, bin_size=30):\n",
    "    hour, mins = t.split(\":\")\n",
    "    return int(hour)\n",
    "    \n",
    "sf[\"TimeBin\"] = sf.Time.map(time_bin)"
   ]
  },
  {
   "cell_type": "markdown",
   "metadata": {},
   "source": [
    "With all new features, the columns that are not useful will be `drop`. Folllowing columns:\n",
    "\n",
    "* `IncidntNum`: A SFPD internal ID which is not useful.\n",
    "* `PdId`: Another SFPD internal ID.\n",
    "* `Location`: This is just a combination of columns `X` and `Y` and is redundant.\n",
    "* `Resolution`: While this tells an interesting story (how the case concluded), there is no such data in `seattle`, so it won't used."
   ]
  },
  {
   "cell_type": "code",
   "execution_count": 7,
   "metadata": {},
   "outputs": [],
   "source": [
    "sf.drop([\"IncidntNum\", \"PdId\", \"Location\", \"Resolution\"], axis=1, inplace=True, errors=\"ignore\")"
   ]
  },
  {
   "cell_type": "markdown",
   "metadata": {},
   "source": [
    "All done for `sf`. A new DataFrame `sf_normalized` will be created and have a specific order of the columns. This is because `seattle` has a completely different order, so both DataFrames will have the exact same schema so they can fit them into a single DataFrame ultimately."
   ]
  },
  {
   "cell_type": "code",
   "execution_count": 8,
   "metadata": {},
   "outputs": [
    {
     "data": {
      "text/html": [
       "<div>\n",
       "<style scoped>\n",
       "    .dataframe tbody tr th:only-of-type {\n",
       "        vertical-align: middle;\n",
       "    }\n",
       "\n",
       "    .dataframe tbody tr th {\n",
       "        vertical-align: top;\n",
       "    }\n",
       "\n",
       "    .dataframe thead th {\n",
       "        text-align: right;\n",
       "    }\n",
       "</style>\n",
       "<table border=\"1\" class=\"dataframe\">\n",
       "  <thead>\n",
       "    <tr style=\"text-align: right;\">\n",
       "      <th></th>\n",
       "      <th>City</th>\n",
       "      <th>DayOfMonth</th>\n",
       "      <th>DayOfWeek</th>\n",
       "      <th>Month</th>\n",
       "      <th>Year</th>\n",
       "      <th>Time</th>\n",
       "      <th>TimeBin</th>\n",
       "      <th>Longitude</th>\n",
       "      <th>Latitude</th>\n",
       "      <th>Address</th>\n",
       "      <th>District</th>\n",
       "      <th>Category</th>\n",
       "      <th>Description</th>\n",
       "    </tr>\n",
       "  </thead>\n",
       "  <tbody>\n",
       "    <tr>\n",
       "      <th>2853</th>\n",
       "      <td>sanfrancisco</td>\n",
       "      <td>23</td>\n",
       "      <td>Saturday</td>\n",
       "      <td>8</td>\n",
       "      <td>2014</td>\n",
       "      <td>03:41</td>\n",
       "      <td>3</td>\n",
       "      <td>-122.434757</td>\n",
       "      <td>37.785428</td>\n",
       "      <td>1700 Block of STEINER ST</td>\n",
       "      <td>NORTHERN</td>\n",
       "      <td>OTHER OFFENSES</td>\n",
       "      <td>MISCELLANEOUS INVESTIGATION</td>\n",
       "    </tr>\n",
       "    <tr>\n",
       "      <th>21093</th>\n",
       "      <td>sanfrancisco</td>\n",
       "      <td>27</td>\n",
       "      <td>Friday</td>\n",
       "      <td>6</td>\n",
       "      <td>2014</td>\n",
       "      <td>17:00</td>\n",
       "      <td>17</td>\n",
       "      <td>-122.437402</td>\n",
       "      <td>37.751032</td>\n",
       "      <td>4200 Block of 24TH ST</td>\n",
       "      <td>MISSION</td>\n",
       "      <td>VEHICLE THEFT</td>\n",
       "      <td>STOLEN AUTOMOBILE</td>\n",
       "    </tr>\n",
       "    <tr>\n",
       "      <th>18984</th>\n",
       "      <td>sanfrancisco</td>\n",
       "      <td>3</td>\n",
       "      <td>Thursday</td>\n",
       "      <td>7</td>\n",
       "      <td>2014</td>\n",
       "      <td>21:40</td>\n",
       "      <td>21</td>\n",
       "      <td>-122.395892</td>\n",
       "      <td>37.757237</td>\n",
       "      <td>700 Block of MISSOURI ST</td>\n",
       "      <td>BAYVIEW</td>\n",
       "      <td>ASSAULT</td>\n",
       "      <td>INFLICT INJURY ON COHABITEE</td>\n",
       "    </tr>\n",
       "    <tr>\n",
       "      <th>4058</th>\n",
       "      <td>sanfrancisco</td>\n",
       "      <td>19</td>\n",
       "      <td>Tuesday</td>\n",
       "      <td>8</td>\n",
       "      <td>2014</td>\n",
       "      <td>13:21</td>\n",
       "      <td>13</td>\n",
       "      <td>-122.424062</td>\n",
       "      <td>37.765586</td>\n",
       "      <td>300 Block of GUERRERO ST</td>\n",
       "      <td>MISSION</td>\n",
       "      <td>DRUG/NARCOTIC</td>\n",
       "      <td>POSSESSION OF COCAINE FOR SALES</td>\n",
       "    </tr>\n",
       "    <tr>\n",
       "      <th>5900</th>\n",
       "      <td>sanfrancisco</td>\n",
       "      <td>13</td>\n",
       "      <td>Wednesday</td>\n",
       "      <td>8</td>\n",
       "      <td>2014</td>\n",
       "      <td>20:14</td>\n",
       "      <td>20</td>\n",
       "      <td>-122.403840</td>\n",
       "      <td>37.791270</td>\n",
       "      <td>0 Block of BELDEN ST</td>\n",
       "      <td>CENTRAL</td>\n",
       "      <td>SUSPICIOUS OCC</td>\n",
       "      <td>INVESTIGATIVE DETENTION</td>\n",
       "    </tr>\n",
       "  </tbody>\n",
       "</table>\n",
       "</div>"
      ],
      "text/plain": [
       "               City  DayOfMonth  DayOfWeek  Month  Year   Time  TimeBin  \\\n",
       "2853   sanfrancisco          23   Saturday      8  2014  03:41        3   \n",
       "21093  sanfrancisco          27     Friday      6  2014  17:00       17   \n",
       "18984  sanfrancisco           3   Thursday      7  2014  21:40       21   \n",
       "4058   sanfrancisco          19    Tuesday      8  2014  13:21       13   \n",
       "5900   sanfrancisco          13  Wednesday      8  2014  20:14       20   \n",
       "\n",
       "        Longitude   Latitude                   Address  District  \\\n",
       "2853  -122.434757  37.785428  1700 Block of STEINER ST  NORTHERN   \n",
       "21093 -122.437402  37.751032     4200 Block of 24TH ST   MISSION   \n",
       "18984 -122.395892  37.757237  700 Block of MISSOURI ST   BAYVIEW   \n",
       "4058  -122.424062  37.765586  300 Block of GUERRERO ST   MISSION   \n",
       "5900  -122.403840  37.791270      0 Block of BELDEN ST   CENTRAL   \n",
       "\n",
       "             Category                      Description  \n",
       "2853   OTHER OFFENSES      MISCELLANEOUS INVESTIGATION  \n",
       "21093   VEHICLE THEFT                STOLEN AUTOMOBILE  \n",
       "18984         ASSAULT      INFLICT INJURY ON COHABITEE  \n",
       "4058    DRUG/NARCOTIC  POSSESSION OF COCAINE FOR SALES  \n",
       "5900   SUSPICIOUS OCC          INVESTIGATIVE DETENTION  "
      ]
     },
     "execution_count": 8,
     "metadata": {},
     "output_type": "execute_result"
    }
   ],
   "source": [
    "# Reindex the DataFrame\n",
    "columns_index = [\"City\", \"DayOfMonth\", \"DayOfWeek\", \"Month\", \"Year\", \"Time\", \"TimeBin\",\n",
    "                    \"Longitude\", \"Latitude\", \"Address\", \"District\", \n",
    "                    \"Category\", \"Description\"\n",
    "                   ]\n",
    "sf_normalized = sf[columns_index]\n",
    "sf_normalized.sample(n=5)"
   ]
  },
  {
   "cell_type": "markdown",
   "metadata": {},
   "source": [
    "### Seattle"
   ]
  },
  {
   "cell_type": "markdown",
   "metadata": {},
   "source": [
    "Same process for `seattle`. Dropping the following columns:\n",
    "\n",
    "* `RMS CDW ID`: A SeattlePD internal ID, no useful.\n",
    "* `General Offense Number`: A unique number for each incident. Seems to be a function of the date, but it isn't necessary.\n",
    "* `Offense Code`: A unique number identifying each type of offense. This maps to `Offense Type` but is less expressive, so it's get rid of it.\n",
    "* `Offense Code Extension`: Some ID, probably SeattlePD internal stuff.\n",
    "* `Census Tract 2000`: Census information which is not relevant for the analysis.\n",
    "* `Location`: This is just a combination of columns `Longitude` and `Latitude` and is redundant."
   ]
  },
  {
   "cell_type": "code",
   "execution_count": 9,
   "metadata": {},
   "outputs": [],
   "source": [
    "seattle_drop_columns = [\"RMS CDW ID\", \n",
    "                        \"General Offense Number\", \n",
    "                        \"Offense Code\", \n",
    "                        \"Offense Code Extension\", \n",
    "                        \"Summary Offense Code\",\n",
    "                        \"Census Tract 2000\",\n",
    "                        \"Location\"\n",
    "                       ]\n",
    "seattle.drop(seattle_drop_columns, axis=1, inplace=True, errors=\"ignore\")"
   ]
  },
  {
   "cell_type": "markdown",
   "metadata": {},
   "source": [
    "The columns which have a different name in `sf`:\n",
    "\n",
    "* `Hundred Block Location` in `seattle` is similar to `Address` in `sf`.\n",
    "* `Offense Type` in `seattle` is similar to `Category` in `sf`.\n",
    "* `Summarized Offense Description` will be renamed to `Description` to make it simpler, like mentioned earlier.\n",
    "* `District/Sector` will be named to `District` to make it simpler, like mentioned earlier."
   ]
  },
  {
   "cell_type": "code",
   "execution_count": 10,
   "metadata": {},
   "outputs": [],
   "source": [
    "seattle.rename(columns = {\"Hundred Block Location\": \"Address\", \"Offense Type\": \"Category\", \n",
    "                          \"Summarized Offense Description\": \"Description\",\n",
    "                          \"District/Sector\": \"District\"}, \n",
    "               inplace=True)"
   ]
  },
  {
   "cell_type": "markdown",
   "metadata": {},
   "source": [
    "New features will be generated for our analysis, similarly to did them in `sf`:\n",
    "\n",
    "* `City` should always be `seattle`.\n",
    "* For temporal features, from `Occurred Date or Date Range Start` new features will be creatd `DayOfMonth`, `DayOfWeek`, `Time` and `TimeBin` to match `sf` schema."
   ]
  },
  {
   "cell_type": "code",
   "execution_count": 11,
   "metadata": {},
   "outputs": [],
   "source": [
    "import datetime\n",
    "\n",
    "seattle[\"City\"] = pd.Series([SEATTLE]*seattle.shape[0], index=seattle.index)\n",
    "seattle[\"DayOfMonth\"] = seattle[\"Occurred Date or Date Range Start\"].map(lambda x: int(x.split(\" \")[0].split(\"/\")[1]))\n",
    "seattle[\"DayOfWeek\"] = seattle[\"Occurred Date or Date Range Start\"] \\\n",
    "    .map(lambda x: datetime.datetime.strptime(x.split(\" \")[0], \"%m/%d/%Y\").strftime(\"%A\"))\n",
    "seattle[\"Time\"] = seattle[\"Occurred Date or Date Range Start\"] \\\n",
    "    .map(lambda x: datetime.datetime.strptime(x[11:], \"%I:%M:%S %p\").strftime(\"%H:%M\"))\n",
    "seattle[\"TimeBin\"] = seattle.Time.map(time_bin)"
   ]
  },
  {
   "cell_type": "markdown",
   "metadata": {},
   "source": [
    "DataFrame will be reindexed under a new one called `seattle_normalized`."
   ]
  },
  {
   "cell_type": "code",
   "execution_count": 12,
   "metadata": {},
   "outputs": [
    {
     "data": {
      "text/html": [
       "<div>\n",
       "<style scoped>\n",
       "    .dataframe tbody tr th:only-of-type {\n",
       "        vertical-align: middle;\n",
       "    }\n",
       "\n",
       "    .dataframe tbody tr th {\n",
       "        vertical-align: top;\n",
       "    }\n",
       "\n",
       "    .dataframe thead th {\n",
       "        text-align: right;\n",
       "    }\n",
       "</style>\n",
       "<table border=\"1\" class=\"dataframe\">\n",
       "  <thead>\n",
       "    <tr style=\"text-align: right;\">\n",
       "      <th></th>\n",
       "      <th>City</th>\n",
       "      <th>DayOfMonth</th>\n",
       "      <th>DayOfWeek</th>\n",
       "      <th>Month</th>\n",
       "      <th>Year</th>\n",
       "      <th>Time</th>\n",
       "      <th>TimeBin</th>\n",
       "      <th>Longitude</th>\n",
       "      <th>Latitude</th>\n",
       "      <th>Address</th>\n",
       "      <th>District</th>\n",
       "      <th>Category</th>\n",
       "      <th>Description</th>\n",
       "    </tr>\n",
       "  </thead>\n",
       "  <tbody>\n",
       "    <tr>\n",
       "      <th>16148</th>\n",
       "      <td>seattle</td>\n",
       "      <td>19</td>\n",
       "      <td>Saturday</td>\n",
       "      <td>7</td>\n",
       "      <td>2014</td>\n",
       "      <td>07:50</td>\n",
       "      <td>7</td>\n",
       "      <td>-122.326128</td>\n",
       "      <td>47.552642</td>\n",
       "      <td>6XX BLOCK OF S FINDLAY ST</td>\n",
       "      <td>O</td>\n",
       "      <td>TRAFFIC</td>\n",
       "      <td>TRAFFIC</td>\n",
       "    </tr>\n",
       "    <tr>\n",
       "      <th>21533</th>\n",
       "      <td>seattle</td>\n",
       "      <td>2</td>\n",
       "      <td>Wednesday</td>\n",
       "      <td>7</td>\n",
       "      <td>2014</td>\n",
       "      <td>23:00</td>\n",
       "      <td>23</td>\n",
       "      <td>-122.324034</td>\n",
       "      <td>47.623717</td>\n",
       "      <td>5XX BLOCK OF BELMONT AV E</td>\n",
       "      <td>E</td>\n",
       "      <td>BURGLARY-NOFORCE-RES</td>\n",
       "      <td>BURGLARY</td>\n",
       "    </tr>\n",
       "    <tr>\n",
       "      <th>27283</th>\n",
       "      <td>seattle</td>\n",
       "      <td>17</td>\n",
       "      <td>Tuesday</td>\n",
       "      <td>6</td>\n",
       "      <td>2014</td>\n",
       "      <td>15:12</td>\n",
       "      <td>15</td>\n",
       "      <td>-122.325289</td>\n",
       "      <td>47.619059</td>\n",
       "      <td>1XX BLOCK OF SUMMIT AV E</td>\n",
       "      <td>E</td>\n",
       "      <td>THEFT-SHOPLIFT</td>\n",
       "      <td>SHOPLIFTING</td>\n",
       "    </tr>\n",
       "    <tr>\n",
       "      <th>20099</th>\n",
       "      <td>seattle</td>\n",
       "      <td>3</td>\n",
       "      <td>Thursday</td>\n",
       "      <td>7</td>\n",
       "      <td>2014</td>\n",
       "      <td>09:00</td>\n",
       "      <td>9</td>\n",
       "      <td>-122.336891</td>\n",
       "      <td>47.610440</td>\n",
       "      <td>15XX BLOCK OF 4 AV</td>\n",
       "      <td>K</td>\n",
       "      <td>THEFT-BUILDING</td>\n",
       "      <td>OTHER PROPERTY</td>\n",
       "    </tr>\n",
       "    <tr>\n",
       "      <th>27557</th>\n",
       "      <td>seattle</td>\n",
       "      <td>16</td>\n",
       "      <td>Monday</td>\n",
       "      <td>6</td>\n",
       "      <td>2014</td>\n",
       "      <td>13:00</td>\n",
       "      <td>13</td>\n",
       "      <td>-122.315984</td>\n",
       "      <td>47.587684</td>\n",
       "      <td>17XX BLOCK OF 13 AV S</td>\n",
       "      <td>R</td>\n",
       "      <td>HARASSMENT</td>\n",
       "      <td>THREATS</td>\n",
       "    </tr>\n",
       "  </tbody>\n",
       "</table>\n",
       "</div>"
      ],
      "text/plain": [
       "          City  DayOfMonth  DayOfWeek  Month  Year   Time  TimeBin  \\\n",
       "16148  seattle          19   Saturday      7  2014  07:50        7   \n",
       "21533  seattle           2  Wednesday      7  2014  23:00       23   \n",
       "27283  seattle          17    Tuesday      6  2014  15:12       15   \n",
       "20099  seattle           3   Thursday      7  2014  09:00        9   \n",
       "27557  seattle          16     Monday      6  2014  13:00       13   \n",
       "\n",
       "        Longitude   Latitude                    Address District  \\\n",
       "16148 -122.326128  47.552642  6XX BLOCK OF S FINDLAY ST        O   \n",
       "21533 -122.324034  47.623717  5XX BLOCK OF BELMONT AV E        E   \n",
       "27283 -122.325289  47.619059   1XX BLOCK OF SUMMIT AV E        E   \n",
       "20099 -122.336891  47.610440         15XX BLOCK OF 4 AV        K   \n",
       "27557 -122.315984  47.587684      17XX BLOCK OF 13 AV S        R   \n",
       "\n",
       "                   Category     Description  \n",
       "16148               TRAFFIC         TRAFFIC  \n",
       "21533  BURGLARY-NOFORCE-RES        BURGLARY  \n",
       "27283        THEFT-SHOPLIFT     SHOPLIFTING  \n",
       "20099        THEFT-BUILDING  OTHER PROPERTY  \n",
       "27557            HARASSMENT         THREATS  "
      ]
     },
     "execution_count": 12,
     "metadata": {},
     "output_type": "execute_result"
    }
   ],
   "source": [
    "# Reindex the DataFrame\n",
    "seattle_normalized = seattle[columns_index]\n",
    "seattle_normalized.sample(n=5)"
   ]
  },
  {
   "cell_type": "markdown",
   "metadata": {},
   "source": [
    "At this point, 2 DataFrames `sf_normalized` and `seattle_normalized` with matching schemas were built.\n",
    "\n",
    "A particularly important column to analyze distribution of crime data is the `Category`. Unfortunately, Seattle and San Francisco police departments have very different ways to label incidents which don't match at all. For example, offenses related to drug trafficking are labelled `DRUG/NARCOTIC` in San Francisco, but in Seattle this is much more granular and there are more than 20 different labels for drug traffick offenses. The problem is that if it'd be necessary to compare crime categories, if granularity is more different in 1 city then aggregated numbers won't mean anything.\n",
    "\n",
    "As a result, it's necessary to manually go through the crime categories and see how they map between the 2 cities. Since San Francisco categories are fewer and cover more ground, San Francisco categories will be used as the baseline, and try to map all of Seattle's crime categories into San Francisco categories namespace.\n",
    "\n",
    "For example, Seattle's `ASSLT-AGG-WEAPON` matches with San Francisco's `ASSAULT` category."
   ]
  },
  {
   "cell_type": "code",
   "execution_count": 13,
   "metadata": {},
   "outputs": [
    {
     "name": "stderr",
     "output_type": "stream",
     "text": [
      "C:\\ProgramData\\Anaconda3\\lib\\site-packages\\pandas\\core\\indexing.py:1765: SettingWithCopyWarning: \n",
      "A value is trying to be set on a copy of a slice from a DataFrame.\n",
      "Try using .loc[row_indexer,col_indexer] = value instead\n",
      "\n",
      "See the caveats in the documentation: https://pandas.pydata.org/pandas-docs/stable/user_guide/indexing.html#returning-a-view-versus-a-copy\n",
      "  isetter(loc, value)\n"
     ]
    },
    {
     "name": "stdout",
     "output_type": "stream",
     "text": [
      "SF crime categories: ARSON,ASSAULT,BRIBERY,BURGLARY,DISORDERLY CONDUCT,DRIVING UNDER THE INFLUENCE,DRUG/NARCOTIC,DRUNKENNESS,EMBEZZLEMENT,EXTORTION,FAMILY OFFENSES,FORGERY/COUNTERFEITING,FRAUD,GAMBLING,KIDNAPPING,LARCENY/THEFT,LIQUOR LAWS,LOITERING,MISSING PERSON,NON-CRIMINAL,OTHER OFFENSES,PORNOGRAPHY/OBSCENE MAT,PROSTITUTION,ROBBERY,RUNAWAY,SECONDARY CODES,STOLEN PROPERTY,SUICIDE,SUSPICIOUS OCC,TRESPASS,VANDALISM,VEHICLE THEFT,WARRANTS,WEAPON LAWS\n",
      "Seattle crime categories: ARSON,ASSAULT,BURGLARY,DISORDERLY CONDUCT,DRIVING UNDER THE INFLUENCE,DRUG/NARCOTIC,EMBEZZLEMENT,FORGERY/COUNTERFEITING,FRAUD,LARCENY/THEFT,LIQUOR LAWS,NON-CRIMINAL,OTHER OFFENSES,PORNOGRAPHY/OBSCENE MAT,PROSTITUTION,ROBBERY,RUNAWAY,STOLEN PROPERTY,TRESPASS,VANDALISM,VEHICLE THEFT,WARRANTS,WEAPON LAWS\n"
     ]
    }
   ],
   "source": [
    "category_subset = {\n",
    "    \"RECKLESS BURNING\": \"ARSON\",\n",
    "    \"THEFT-OTH\": \"LARCENY/THEFT\",\n",
    "    \"BURGLARY-FORCE-NONRES\": \"BURGLARY\",\n",
    "    \"INJURY - ACCIDENTAL\": \"OTHER OFFENSES\",\n",
    "    \"ANIMAL-BITE\": \"OTHER OFFENSES\",\n",
    "    \"ANIMAL-CRUELTY\": \"OTHER OFFENSES\",\n",
    "    \"ANIMAL-OTH\": \"OTHER OFFENSES\",\n",
    "    \"ASSLT-AGG-BODYFORCE\": \"ASSAULT\",\n",
    "    \"ASSLT-AGG-GUN\": \"ASSAULT\",\n",
    "    \"ASSLT-AGG-POLICE-BODYFORCE\": \"ASSAULT\",\n",
    "    \"ASSLT-AGG-POLICE-GUN\": \"ASSAULT\",\n",
    "    \"ASSLT-AGG-POLICE-WEAPON\": \"ASSAULT\",\n",
    "    \"ASSLT-AGG-WEAPON\": \"ASSAULT\",\n",
    "    \"ASSLT-NONAGG\": \"ASSAULT\",\n",
    "    \"ASSLT-NONAGG-POLICE\": \"ASSAULT\",\n",
    "    \"BIAS INCIDENT\": \"NON-CRIMINAL\",\n",
    "    \"BURGLARY-FORCE-RES\": \"BURGLARY\",\n",
    "    \"BURGLARY-NOFORCE-NONRES\": \"BURGLARY\",\n",
    "    \"BURGLARY-NOFORCE-RES\": \"BURGLARY\",\n",
    "    \"BURGLARY-SECURE PARKING-NONRES\": \"BURGLARY\",\n",
    "    \"BURGLARY-SECURE PARKING-RES\": \"BURGLARY\",\n",
    "    \"COUNTERFEIT\": \"FORGERY/COUNTERFEITING\",\n",
    "    \"DISPUTE-CIVIL PROPERTY (AUTO)\": \"NON-CRIMINAL\",\n",
    "    \"DISPUTE-CIVIL PROPERTY (NON AU\": \"NON-CRIMINAL\",\n",
    "    \"DISPUTE-OTH\": \"NON-CRIMINAL\",\n",
    "    \"DISTURBANCE-NOISE\": \"NON-CRIMINAL\",\n",
    "    \"DISTURBANCE-OTH\": \"NON-CRIMINAL\",\n",
    "    \"DRIVE-BY\": \"OTHER OFFENSES\",\n",
    "    \"DUI-DRUGS\": \"DRIVING UNDER THE INFLUENCE\",\n",
    "    \"DUI-LIQUOR\": \"DRIVING UNDER THE INFLUENCE\",\n",
    "    \"ELUDING-FELONY FLIGHT\": \"RUNAWAY\",\n",
    "    \"EMBEZZLE\": \"EMBEZZLEMENT\",\n",
    "    \"ENDANGERMENT\": \"OTHER OFFENSES\",\n",
    "    \"ESCAPE\": \"RUNAWAY\",\n",
    "    \"FALSE REPORT\": \"OTHER OFFENSES\",\n",
    "    \"FIREWORK-POSSESS\": \"OTHER OFFENSES\",\n",
    "    \"FIREWORK-USE\": \"OTHER OFFENSES\",\n",
    "    \"FORGERY-CHECK\": \"FORGERY/COUNTERFEITING\",\n",
    "    \"FORGERY-CREDIT CARD\": \"FORGERY/COUNTERFEITING\",\n",
    "    \"FORGERY-OTH\": \"FORGERY/COUNTERFEITING\",\n",
    "    \"FRAUD-CHECK\": \"FRAUD\",\n",
    "    \"FRAUD-COMPUTER\": \"FRAUD\",\n",
    "    \"FRAUD-CREDIT CARD\": \"FRAUD\",\n",
    "    \"FRAUD-IDENTITY THEFT\": \"FRAUD\",\n",
    "    \"FRAUD-OTHER\": \"FRAUD\",\n",
    "    \"FRAUD-WIRE-ELECTRONIC\": \"FRAUD\",\n",
    "    \"HARASSMENT\": \"DISORDERLY CONDUCT\",\n",
    "    \"HOMICIDE-JUST-GUN\": \"ASSAULT\",\n",
    "    \"HOMICIDE-JUST-WEAPON\": \"ASSAULT\",\n",
    "    \"HOMICIDE-PREMEDITATED-GUN\": \"ASSAULT\",\n",
    "    \"ILLEGAL DUMPING\": \"NON-CRIMINAL\",\n",
    "    \"INJURY - OTHER\": \"OTHER OFFENSES\",\n",
    "    \"LIQUOR LAW VIOLATION\": \"LIQUOR LAWS\",\n",
    "    \"MALICIOUS HARASSMENT\": \"DISORDERLY CONDUCT\",\n",
    "    \"NARC-DRUG TRAFFIC LOITERING\": \"DRUG/NARCOTIC\",\n",
    "    \"NARC-EQUIPMENT/PARAPHENALIA\": \"DRUG/NARCOTIC\",\n",
    "    \"NARC-FORGERY-PRESCRIPTION\": \"DRUG/NARCOTIC\",\n",
    "    \"NARC-FOUND-AMPHETAMINE\": \"DRUG/NARCOTIC\",\n",
    "    \"NARC-FOUND-COCAINE\": \"DRUG/NARCOTIC\",\n",
    "    \"NARC-FOUND-HEROIN\": \"DRUG/NARCOTIC\",\n",
    "    \"NARC-FOUND-MARIJU\": \"DRUG/NARCOTIC\",\n",
    "    \"NARC-FOUND-METH\": \"DRUG/NARCOTIC\",\n",
    "    \"NARC-FOUND-OPIUM\": \"DRUG/NARCOTIC\",\n",
    "    \"NARC-FOUND-OTHER\": \"DRUG/NARCOTIC\",\n",
    "    \"NARC-FOUND-SYNTHETIC\": \"DRUG/NARCOTIC\",\n",
    "    \"NARC-FRAUD-PRESCRIPTION\": \"DRUG/NARCOTIC\",\n",
    "    \"NARC-POSSESS-AMPHETAMINE\": \"DRUG/NARCOTIC\",\n",
    "    \"NARC-POSSESS-COCAINE\": \"DRUG/NARCOTIC\",\n",
    "    \"NARC-POSSESS-HALLUCINOGEN\": \"DRUG/NARCOTIC\",\n",
    "    \"NARC-POSSESS-HEROIN\": \"DRUG/NARCOTIC\",\n",
    "    \"NARC-POSSESS-MARIJU\": \"DRUG/NARCOTIC\",\n",
    "    \"NARC-POSSESS-METH\": \"DRUG/NARCOTIC\",\n",
    "    \"NARC-POSSESS-OTHER\": \"DRUG/NARCOTIC\",\n",
    "    \"NARC-POSSESS-PILL/TABLET\": \"DRUG/NARCOTIC\",\n",
    "    \"NARC-PRODUCE-MARIJU\": \"DRUG/NARCOTIC\",\n",
    "    \"NARC-SELL-AMPHETAMINE\": \"DRUG/NARCOTIC\",\n",
    "    \"NARC-SELL-COCAINE\": \"DRUG/NARCOTIC\",\n",
    "    \"NARC-SELL-HEROIN\": \"DRUG/NARCOTIC\",\n",
    "    \"NARC-SELL-MARIJU\": \"DRUG/NARCOTIC\",\n",
    "    \"NARC-SELL-METH\": \"DRUG/NARCOTIC\",\n",
    "    \"NARC-SELL-SYNTHETIC\": \"DRUG/NARCOTIC\",\n",
    "    \"NARC-SMUGGLE-OTHER\": \"DRUG/NARCOTIC\",\n",
    "    \"OBSTRUCT\": \"OTHER OFFENSES\",\n",
    "    \"PORNOGRAPHY-OBSCENE MATERIAL\": \"PORNOGRAPHY/OBSCENE MAT\",\n",
    "    \"PROP RECOVERED-OTHER AGENCY\": \"STOLEN PROPERTY\",\n",
    "    \"PROPERTY DAMAGE - GRAFFITI\": \"VANDALISM\",\n",
    "    \"PROPERTY DAMAGE-NON RESIDENTIA\": \"VANDALISM\",\n",
    "    \"PROPERTY DAMAGE-RESIDENTIAL\": \"VANDALISM\",\n",
    "    \"PROPERTY FOUND\": \"STOLEN PROPERTY\",\n",
    "    \"PROPERTY LOST\": \"STOLEN PROPERTY\",\n",
    "    \"PROPERTY LOST - POLICE EQUIPME\": \"STOLEN PROPERTY\",\n",
    "    \"PROPERTY STOLEN-POSSESS\": \"STOLEN PROPERTY\",\n",
    "    \"PROPERTY STOLEN-SELL\": \"STOLEN PROPERTY\",\n",
    "    \"PROPERTY STOLEN-TRAFFICKING\": \"STOLEN PROPERTY\",\n",
    "    \"PROSTITUTION LOITERING\": \"PROSTITUTION\",\n",
    "    \"PROSTITUTION PATRONIZING\": \"PROSTITUTION\",\n",
    "    \"PROSTITUTION-ASSIST-PROMOTE\": \"PROSTITUTION\",\n",
    "    \"ROBBERY-BANK-BODYFORCE\": \"ROBBERY\",\n",
    "    \"ROBBERY-BANK-GUN\": \"ROBBERY\",\n",
    "    \"ROBBERY-BANK-WEAPON\": \"ROBBERY\",\n",
    "    \"ROBBERY-BUSINESS-BODYFORCE\": \"ROBBERY\",\n",
    "    \"ROBBERY-BUSINESS-GUN\": \"ROBBERY\",\n",
    "    \"ROBBERY-BUSINESS-WEAPON\": \"ROBBERY\",\n",
    "    \"ROBBERY-RESIDENCE-BODYFORCE\": \"ROBBERY\",\n",
    "    \"ROBBERY-RESIDENCE-GUN\": \"ROBBERY\",\n",
    "    \"ROBBERY-RESIDENCE-WEAPON\": \"ROBBERY\",\n",
    "    \"ROBBERY-STREET-BODYFORCE\": \"ROBBERY\",\n",
    "    \"ROBBERY-STREET-GUN\": \"ROBBERY\",\n",
    "    \"ROBBERY-STREET-WEAPON\": \"ROBBERY\",\n",
    "    \"THEFT OF SERVICES\": \"LARCENY/THEFT\",\n",
    "    \"THEFT-AUTO PARTS\": \"LARCENY/THEFT\",\n",
    "    \"THEFT-AUTOACC\": \"LARCENY/THEFT\",\n",
    "    \"THEFT-BICYCLE\": \"LARCENY/THEFT\",\n",
    "    \"THEFT-BOAT\": \"LARCENY/THEFT\",\n",
    "    \"THEFT-BUILDING\": \"LARCENY/THEFT\",\n",
    "    \"THEFT-CARPROWL\": \"LARCENY/THEFT\",\n",
    "    \"THEFT-COINOP\": \"LARCENY/THEFT\",\n",
    "    \"THEFT-LICENSE PLATE\": \"LARCENY/THEFT\",\n",
    "    \"THEFT-MAIL\": \"LARCENY/THEFT\",\n",
    "    \"THEFT-PKPOCKET\": \"LARCENY/THEFT\",\n",
    "    \"THEFT-PRSNATCH\": \"LARCENY/THEFT\",\n",
    "    \"THEFT-SHOPLIFT\": \"LARCENY/THEFT\",\n",
    "    \"THREATS-KILL\": \"ASSAULT\",\n",
    "    \"THREATS-OTHER\": \"OTHER OFFENSES\",\n",
    "    \"THREATS-WEAPON\": \"ASSAULT\",\n",
    "    \"TRAFFIC\": \"OTHER OFFENSES\",\n",
    "    \"URINATING/DEFECATING-IN PUBLIC\": \"DISORDERLY CONDUCT\",\n",
    "    \"VEH-RCVD-FOR OTHER AGENCY\": \"VEHICLE THEFT\",\n",
    "    \"VEH-THEFT-AUTO\": \"VEHICLE THEFT\",\n",
    "    \"VEH-THEFT-MTRCYCLE\": \"VEHICLE THEFT\",\n",
    "    \"VEH-THEFT-OTHVEH\": \"VEHICLE THEFT\",\n",
    "    \"VEH-THEFT-TRAILER\": \"VEHICLE THEFT\",\n",
    "    \"VEH-THEFT-TRUCK\": \"VEHICLE THEFT\",\n",
    "    \"VIOL-COURT ORDER\": \"OTHER OFFENSES\",\n",
    "    \"WARRANT-FUGITIVE\": \"WARRANTS\",\n",
    "    \"WARRARR-FELONY\": \"WARRANTS\",\n",
    "    \"WARRARR-MISDEMEANOR\": \"WARRANTS\",\n",
    "    \"WEAPON-CONCEALED\": \"WEAPON LAWS\",\n",
    "    \"WEAPON-DISCHARGE\": \"WEAPON LAWS\",\n",
    "    \"WEAPON-POSSESSION\": \"WEAPON LAWS\",\n",
    "    \"WEAPON-SELLING\": \"WEAPON LAWS\",\n",
    "    \"WEAPON-SURRENDER-EXCLUDING FIR\": \"WEAPON LAWS\",\n",
    "    \"WEAPON-UNLAWFUL USE\": \"WEAPON LAWS\",\n",
    "    \"[INC - CASE DC USE ONLY]\": \"OTHER OFFENSES\"\n",
    "}\n",
    "for category, subset in category_subset.items():\n",
    "    seattle_normalized.loc[seattle_normalized[\"Category\"] == category, \"Category\"] = subset\n",
    "\n",
    "sf_categories = set(sf_normalized[\"Category\"].tolist())\n",
    "seattle_categories = set(seattle_normalized[\"Category\"].tolist())\n",
    "print (\"SF crime categories: %s\" % \",\".join(sorted(sf_categories)))\n",
    "print (\"Seattle crime categories: %s\" % \",\".join(sorted(seattle_categories)))\n",
    "assert seattle_categories <= sf_categories"
   ]
  },
  {
   "cell_type": "markdown",
   "metadata": {},
   "source": [
    "Finally `sf_normalized` and `seattle_normalized` were built with a common schema and common category namespace. At that point a final DataFrame called `dataset` will be created which will be the concatenation of both `sf_normalized` and `seattle_normalized`."
   ]
  },
  {
   "cell_type": "code",
   "execution_count": 14,
   "metadata": {},
   "outputs": [
    {
     "name": "stdout",
     "output_type": "stream",
     "text": [
      "Total number of rows after union: 61772\n"
     ]
    },
    {
     "data": {
      "text/html": [
       "<div>\n",
       "<style scoped>\n",
       "    .dataframe tbody tr th:only-of-type {\n",
       "        vertical-align: middle;\n",
       "    }\n",
       "\n",
       "    .dataframe tbody tr th {\n",
       "        vertical-align: top;\n",
       "    }\n",
       "\n",
       "    .dataframe thead th {\n",
       "        text-align: right;\n",
       "    }\n",
       "</style>\n",
       "<table border=\"1\" class=\"dataframe\">\n",
       "  <thead>\n",
       "    <tr style=\"text-align: right;\">\n",
       "      <th></th>\n",
       "      <th>City</th>\n",
       "      <th>DayOfMonth</th>\n",
       "      <th>DayOfWeek</th>\n",
       "      <th>Month</th>\n",
       "      <th>Year</th>\n",
       "      <th>Time</th>\n",
       "      <th>TimeBin</th>\n",
       "      <th>Longitude</th>\n",
       "      <th>Latitude</th>\n",
       "      <th>Address</th>\n",
       "      <th>District</th>\n",
       "      <th>Category</th>\n",
       "      <th>Description</th>\n",
       "    </tr>\n",
       "  </thead>\n",
       "  <tbody>\n",
       "    <tr>\n",
       "      <th>21809</th>\n",
       "      <td>sanfrancisco</td>\n",
       "      <td>25</td>\n",
       "      <td>Wednesday</td>\n",
       "      <td>6</td>\n",
       "      <td>2014</td>\n",
       "      <td>12:00</td>\n",
       "      <td>12</td>\n",
       "      <td>-122.403405</td>\n",
       "      <td>37.775421</td>\n",
       "      <td>800 Block of BRYANT ST</td>\n",
       "      <td>SOUTHERN</td>\n",
       "      <td>SUSPICIOUS OCC</td>\n",
       "      <td>SUSPICIOUS OCCURRENCE</td>\n",
       "    </tr>\n",
       "    <tr>\n",
       "      <th>6075</th>\n",
       "      <td>sanfrancisco</td>\n",
       "      <td>13</td>\n",
       "      <td>Wednesday</td>\n",
       "      <td>8</td>\n",
       "      <td>2014</td>\n",
       "      <td>10:42</td>\n",
       "      <td>10</td>\n",
       "      <td>-122.407634</td>\n",
       "      <td>37.784189</td>\n",
       "      <td>800 Block of MARKET ST</td>\n",
       "      <td>SOUTHERN</td>\n",
       "      <td>LARCENY/THEFT</td>\n",
       "      <td>PETTY THEFT WITH PRIOR</td>\n",
       "    </tr>\n",
       "    <tr>\n",
       "      <th>28108</th>\n",
       "      <td>seattle</td>\n",
       "      <td>14</td>\n",
       "      <td>Saturday</td>\n",
       "      <td>6</td>\n",
       "      <td>2014</td>\n",
       "      <td>20:12</td>\n",
       "      <td>20</td>\n",
       "      <td>-122.342382</td>\n",
       "      <td>47.691456</td>\n",
       "      <td>85XX BLOCK OF MIDVALE AV N</td>\n",
       "      <td>N</td>\n",
       "      <td>OTHER OFFENSES</td>\n",
       "      <td>THREATS</td>\n",
       "    </tr>\n",
       "    <tr>\n",
       "      <th>5531</th>\n",
       "      <td>seattle</td>\n",
       "      <td>17</td>\n",
       "      <td>Sunday</td>\n",
       "      <td>8</td>\n",
       "      <td>2014</td>\n",
       "      <td>17:20</td>\n",
       "      <td>17</td>\n",
       "      <td>-122.341580</td>\n",
       "      <td>47.608856</td>\n",
       "      <td>15XX BLOCK OF WESTERN AV</td>\n",
       "      <td>M</td>\n",
       "      <td>LARCENY/THEFT</td>\n",
       "      <td>CAR PROWL</td>\n",
       "    </tr>\n",
       "    <tr>\n",
       "      <th>2026</th>\n",
       "      <td>sanfrancisco</td>\n",
       "      <td>25</td>\n",
       "      <td>Monday</td>\n",
       "      <td>8</td>\n",
       "      <td>2014</td>\n",
       "      <td>18:34</td>\n",
       "      <td>18</td>\n",
       "      <td>-122.408747</td>\n",
       "      <td>37.772075</td>\n",
       "      <td>0 Block of MCLEA CT</td>\n",
       "      <td>SOUTHERN</td>\n",
       "      <td>WARRANTS</td>\n",
       "      <td>ENROUTE TO OUTSIDE JURISDICTION</td>\n",
       "    </tr>\n",
       "  </tbody>\n",
       "</table>\n",
       "</div>"
      ],
      "text/plain": [
       "               City  DayOfMonth  DayOfWeek  Month  Year   Time  TimeBin  \\\n",
       "21809  sanfrancisco          25  Wednesday      6  2014  12:00       12   \n",
       "6075   sanfrancisco          13  Wednesday      8  2014  10:42       10   \n",
       "28108       seattle          14   Saturday      6  2014  20:12       20   \n",
       "5531        seattle          17     Sunday      8  2014  17:20       17   \n",
       "2026   sanfrancisco          25     Monday      8  2014  18:34       18   \n",
       "\n",
       "        Longitude   Latitude                     Address  District  \\\n",
       "21809 -122.403405  37.775421      800 Block of BRYANT ST  SOUTHERN   \n",
       "6075  -122.407634  37.784189      800 Block of MARKET ST  SOUTHERN   \n",
       "28108 -122.342382  47.691456  85XX BLOCK OF MIDVALE AV N         N   \n",
       "5531  -122.341580  47.608856    15XX BLOCK OF WESTERN AV         M   \n",
       "2026  -122.408747  37.772075         0 Block of MCLEA CT  SOUTHERN   \n",
       "\n",
       "             Category                      Description  \n",
       "21809  SUSPICIOUS OCC            SUSPICIOUS OCCURRENCE  \n",
       "6075    LARCENY/THEFT           PETTY THEFT WITH PRIOR  \n",
       "28108  OTHER OFFENSES                          THREATS  \n",
       "5531    LARCENY/THEFT                        CAR PROWL  \n",
       "2026         WARRANTS  ENROUTE TO OUTSIDE JURISDICTION  "
      ]
     },
     "execution_count": 14,
     "metadata": {},
     "output_type": "execute_result"
    }
   ],
   "source": [
    "dataset = pd.concat([sf_normalized, seattle_normalized])\n",
    "total_nrows = dataset.shape[0]\n",
    "print (\"Total number of rows after union: %d\" % total_nrows)\n",
    "assert total_nrows == sf_nrows + seattle_nrows\n",
    "\n",
    "dataset.sample(n=5)"
   ]
  },
  {
   "cell_type": "markdown",
   "metadata": {},
   "source": [
    "## Data Exploration"
   ]
  },
  {
   "cell_type": "markdown",
   "metadata": {},
   "source": [
    "With `dataset` DataFrame created, it's time to explore the data.\n",
    "Python's library [seaborn](https://github.com/mwaskom/seaborn) provides powerful visualization techniques, it will be used to generate several plots to get a better understanding about the crimes in both cities."
   ]
  },
  {
   "cell_type": "markdown",
   "metadata": {},
   "source": [
    "### Occurrence Analysis - Category of Crimes by City"
   ]
  },
  {
   "cell_type": "code",
   "execution_count": 15,
   "metadata": {
    "scrolled": false
   },
   "outputs": [
    {
     "data": {
      "text/plain": [
       "<seaborn.axisgrid.FacetGrid at 0x1f0be3632e0>"
      ]
     },
     "execution_count": 15,
     "metadata": {},
     "output_type": "execute_result"
    },
    {
     "data": {
      "image/png": "[encoded data removed]",
      "text/plain": [
       "<Figure size 819.125x720 with 1 Axes>"
      ]
     },
     "metadata": {
      "needs_background": "light"
     },
     "output_type": "display_data"
    }
   ],
   "source": [
    "import seaborn as sns\n",
    "import matplotlib.pyplot as plt\n",
    "%matplotlib inline\n",
    "\n",
    "sns.catplot (y = 'Category', hue='City', kind=\"count\", data = dataset, height=10)"
   ]
  },
  {
   "cell_type": "markdown",
   "metadata": {},
   "source": [
    "The plot above shows that `LARCENY/THEFT` is the most common category in both San Francisco and Seattle."
   ]
  },
  {
   "cell_type": "markdown",
   "metadata": {},
   "source": [
    "### Occurrence Analysis - Crimes by Hour"
   ]
  },
  {
   "cell_type": "code",
   "execution_count": 16,
   "metadata": {
    "scrolled": false
   },
   "outputs": [
    {
     "data": {
      "text/plain": [
       "<seaborn.axisgrid.FacetGrid at 0x1f0ba558ee0>"
      ]
     },
     "execution_count": 16,
     "metadata": {},
     "output_type": "execute_result"
    },
    {
     "data": {
      "image/png": "[encoded data removed]",
      "text/plain": [
       "<Figure size 819.125x720 with 1 Axes>"
      ]
     },
     "metadata": {
      "needs_background": "light"
     },
     "output_type": "display_data"
    }
   ],
   "source": [
    "sns.catplot (x = 'TimeBin', hue='City', kind=\"count\", data = dataset, height=10)"
   ]
  },
  {
   "cell_type": "markdown",
   "metadata": {},
   "source": [
    "The graph above shows a greater occurrence of midnight crimes in Seattle than in San Francisco."
   ]
  },
  {
   "cell_type": "markdown",
   "metadata": {},
   "source": [
    "### Comparison between San Francisco and Seattle crime distribution"
   ]
  },
  {
   "cell_type": "markdown",
   "metadata": {},
   "source": [
    "An interesting way to show the differences in crime distribution between the 2 cities is to use hierarchical clustering on normalized crime occurrences broken down by category. Taking advantage of the powerful visualization techniques of seaborn library, `clustermap` will be used, it uses hierarchical clustering to discover relationships between rows and columns in a DataFrame.\n",
    "\n",
    "The first step is to prepare the data, creating a DataFrame where each row represents a category, and each column a different city. A few extra processing steps:\n",
    "\n",
    "* If a crime category doesn't have an occurrence in both cities, it take it out. It wouldn't be meaningful to include it since comparing both cities is the objective.\n",
    "* It's necessary to normalize the values accross rows so that crimes with very high occurrences like `LARCENY/THEFT` don't end up alone in a cluster and everything else in a separate cluster. The sum of each row should be 1."
   ]
  },
  {
   "cell_type": "code",
   "execution_count": 17,
   "metadata": {},
   "outputs": [
    {
     "name": "stdout",
     "output_type": "stream",
     "text": [
      "Crime categories not in both cities:\n",
      "City             sanfrancisco  seattle\n",
      "Category                              \n",
      "BRIBERY                   1.0      0.0\n",
      "DRUNKENNESS             147.0      0.0\n",
      "EXTORTION                 7.0      0.0\n",
      "FAMILY OFFENSES          10.0      0.0\n",
      "GAMBLING                  1.0      0.0\n",
      "KIDNAPPING              117.0      0.0\n",
      "LOITERING                 3.0      0.0\n",
      "MISSING PERSON         1266.0      0.0\n",
      "SECONDARY CODES         442.0      0.0\n",
      "SUICIDE                  14.0      0.0\n",
      "SUSPICIOUS OCC         1300.0      0.0\n"
     ]
    },
    {
     "data": {
      "text/html": [
       "<div>\n",
       "<style scoped>\n",
       "    .dataframe tbody tr th:only-of-type {\n",
       "        vertical-align: middle;\n",
       "    }\n",
       "\n",
       "    .dataframe tbody tr th {\n",
       "        vertical-align: top;\n",
       "    }\n",
       "\n",
       "    .dataframe thead th {\n",
       "        text-align: right;\n",
       "    }\n",
       "</style>\n",
       "<table border=\"1\" class=\"dataframe\">\n",
       "  <thead>\n",
       "    <tr style=\"text-align: right;\">\n",
       "      <th>City</th>\n",
       "      <th>sanfrancisco</th>\n",
       "      <th>seattle</th>\n",
       "    </tr>\n",
       "    <tr>\n",
       "      <th>Category</th>\n",
       "      <th></th>\n",
       "      <th></th>\n",
       "    </tr>\n",
       "  </thead>\n",
       "  <tbody>\n",
       "    <tr>\n",
       "      <th>FORGERY/COUNTERFEITING</th>\n",
       "      <td>0.076271</td>\n",
       "      <td>0.923729</td>\n",
       "    </tr>\n",
       "    <tr>\n",
       "      <th>DRIVING UNDER THE INFLUENCE</th>\n",
       "      <td>0.746269</td>\n",
       "      <td>0.253731</td>\n",
       "    </tr>\n",
       "    <tr>\n",
       "      <th>LARCENY/THEFT</th>\n",
       "      <td>0.435759</td>\n",
       "      <td>0.564241</td>\n",
       "    </tr>\n",
       "    <tr>\n",
       "      <th>FRAUD</th>\n",
       "      <td>0.141108</td>\n",
       "      <td>0.858892</td>\n",
       "    </tr>\n",
       "    <tr>\n",
       "      <th>WARRANTS</th>\n",
       "      <td>0.635747</td>\n",
       "      <td>0.364253</td>\n",
       "    </tr>\n",
       "  </tbody>\n",
       "</table>\n",
       "</div>"
      ],
      "text/plain": [
       "City                         sanfrancisco   seattle\n",
       "Category                                           \n",
       "FORGERY/COUNTERFEITING           0.076271  0.923729\n",
       "DRIVING UNDER THE INFLUENCE      0.746269  0.253731\n",
       "LARCENY/THEFT                    0.435759  0.564241\n",
       "FRAUD                            0.141108  0.858892\n",
       "WARRANTS                         0.635747  0.364253"
      ]
     },
     "execution_count": 17,
     "metadata": {},
     "output_type": "execute_result"
    }
   ],
   "source": [
    "gb = dataset.groupby(\"Category\")\n",
    "category_by_city = gb[\"City\"].value_counts().unstack().fillna(0)\n",
    "# filter out crimes which don't have an occurrence in both cities\n",
    "category_by_city_nonnull = category_by_city[(category_by_city[SF] > 0) & (category_by_city[SEATTLE] > 0)]\n",
    "print (\"Crime categories not in both cities:\")\n",
    "print (category_by_city[(category_by_city[SF] == 0) | (category_by_city[SEATTLE] == 0)])\n",
    "# normalize the distribution of crimes so that each rows adds up to 1\n",
    "category_by_city_norm = category_by_city_nonnull.div(category_by_city_nonnull.sum(axis=1), axis=0)\n",
    "\n",
    "category_by_city_norm.sample(n=5)"
   ]
  },
  {
   "cell_type": "markdown",
   "metadata": {},
   "source": [
    "`clustermap` will be plotted, using the `Blues` colormap for consistency:"
   ]
  },
  {
   "cell_type": "code",
   "execution_count": 18,
   "metadata": {
    "scrolled": false
   },
   "outputs": [
    {
     "data": {
      "image/png": "[encoded data removed]",
      "text/plain": [
       "<Figure size 720x720 with 4 Axes>"
      ]
     },
     "metadata": {
      "needs_background": "light"
     },
     "output_type": "display_data"
    }
   ],
   "source": [
    "import seaborn as sns\n",
    "\n",
    "g = sns.clustermap(category_by_city_norm, annot=True, cmap=\"Blues\", fmt=\"g\")\n",
    "plt.setp(g.ax_heatmap.yaxis.get_majorticklabels(), rotation=0)\n",
    "g.fig.suptitle(\"Normalized distribution and clustering of crimes between San Francisco and Seattle\", size=15)\n",
    "plt.show()"
   ]
  },
  {
   "cell_type": "markdown",
   "metadata": {},
   "source": [
    "The `clustermap` has rearranged the order of the categories to exhibit the different clusters. Clearly there are 3 different clusters:\n",
    "\n",
    "* A cluster where the proportion of occurrences is roughly the same between the 2 cities.\n",
    "* A cluster where the proportion of occurrences is significantly higher in Seattle.\n",
    "* A cluster where the proportion of occurrences is significantly higher in San Francisco.\n",
    "\n",
    "Let's look the categories again:\n",
    "\n",
    "* `ASSAULT`: 0.56 (SF) ~= 0.44 (Seattle)\n",
    "* `DRUNKENNESS`: not in Seattle, probably due to the way we manually labelled the Seattle categories, or could already be labbeled by Seattle Policy Department under different categories.\n",
    "* `LARCENY/THEFT`: 0.44 (SF) ~= 0.56 (Seattle)\n",
    "* `PROSTITUTION`: 0.36 (SF) < 0.64 (Seattle)\n",
    "* `ROBBERY`: 0.70 (SF) < 0.30 (Seattle)\n",
    "* `VEHICLE THEFT`: 0.39 (SF) < 0.61 (Seattle)\n",
    "\n",
    "`ASSAULT` and `LARCENY/THEFT` are the most frequent crime categories (see previous map), so it makes sense that they are roughly similar between the 2 cities because it is statistically significant.\n",
    "For the other categories however they are far lower in San Francisco than in Seattle. This could happen due to:\n",
    "* There are more crime entries in the initial datasets for Seattle than in San Francisco.\n",
    "* When manually re-labelled the crime categories in Seattle, and might have inflated some categories numbers."
   ]
  },
  {
   "cell_type": "markdown",
   "metadata": {},
   "source": [
    "## Conclusion"
   ]
  },
  {
   "cell_type": "markdown",
   "metadata": {},
   "source": [
    "In this analysis the following facts were discovered:\n",
    "\n",
    "* Certain crime categories such as theft, vehicle theft and prostitution occur mostly in San Francisco, unlike drug/narcotics and weapons laws, occurring mainly in Seattle.\n",
    "* Crime categories such as assault and larceny/theft are statistically significant."
   ]
  }
 ],
 "metadata": {
  "kernelspec": {
   "display_name": "Python 3",
   "language": "python",
   "name": "python3"
  },
  "language_info": {
   "codemirror_mode": {
    "name": "ipython",
    "version": 3
   },
   "file_extension": ".py",
   "mimetype": "text/x-python",
   "name": "python",
   "nbconvert_exporter": "python",
   "pygments_lexer": "ipython3",
   "version": "3.8.5"
  }
 },
 "nbformat": 4,
 "nbformat_minor": 1
}
